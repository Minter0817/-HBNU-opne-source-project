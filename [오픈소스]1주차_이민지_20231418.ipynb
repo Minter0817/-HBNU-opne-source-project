{
  "nbformat": 4,
  "nbformat_minor": 0,
  "metadata": {
    "colab": {
      "provenance": []
    },
    "kernelspec": {
      "name": "python3",
      "display_name": "Python 3"
    },
    "language_info": {
      "name": "python"
    }
  },
  "cells": [
    {
      "cell_type": "markdown",
      "source": [
        "예제1"
      ],
      "metadata": {
        "id": "FdJNe394-TTr"
      }
    },
    {
      "cell_type": "code",
      "execution_count": 4,
      "metadata": {
        "id": "1KnT7SVH3U4S",
        "colab": {
          "base_uri": "https://localhost:8080/"
        },
        "outputId": "297e9531-dee8-49ff-add5-47dd1112ee5c"
      },
      "outputs": [
        {
          "output_type": "stream",
          "name": "stdout",
          "text": [
            "Value for 3\n",
            "Value for 3\n"
          ]
        }
      ],
      "source": [
        "class MyCollection:\n",
        "  def __getitem__(self,key):\n",
        "    return f\"Value for {key}\"\n",
        "\n",
        "collection = MyCollection()\n",
        "print(collection.__getitem__(3))\n",
        "print(collection[3])"
      ]
    },
    {
      "cell_type": "markdown",
      "source": [
        "예제2"
      ],
      "metadata": {
        "id": "kImWQOcL_7E_"
      }
    },
    {
      "cell_type": "code",
      "source": [
        "import collections\n",
        "\n",
        "Card = collections.namedtuple('Card',['rank','suit'])\n",
        "\n",
        "class FrenchDeck:\n",
        "  ranks = [str(n) for n in range(2,11)] + list('JKQA')\n",
        "  suits = \"spades diamonds clubs hearts\".split()\n",
        "\n",
        "  def __init__(self):\n",
        "    self._cards = [Card(rank,suit) for suit in self.suits\n",
        "                  for rank in self.ranks]\n",
        "\n",
        "  def __len__(self) :\n",
        "    return len(self._cards)\n",
        "  def __getitem__(self,position):\n",
        "    return self._cards[position]"
      ],
      "metadata": {
        "id": "8BnYdj-J-ora"
      },
      "execution_count": 5,
      "outputs": []
    },
    {
      "cell_type": "markdown",
      "source": [
        "예제 3"
      ],
      "metadata": {
        "id": "jYkyA1j0AANG"
      }
    },
    {
      "cell_type": "code",
      "source": [
        "beer_card = Card('7','diamonds')\n",
        "beer_card"
      ],
      "metadata": {
        "colab": {
          "base_uri": "https://localhost:8080/"
        },
        "id": "Nl8h9-bC_4HL",
        "outputId": "23d5b3c3-9f14-4459-b8f8-21dcca9d7679"
      },
      "execution_count": 7,
      "outputs": [
        {
          "output_type": "execute_result",
          "data": {
            "text/plain": [
              "Card(rank='7', suit='diamonds')"
            ]
          },
          "metadata": {},
          "execution_count": 7
        }
      ]
    },
    {
      "cell_type": "markdown",
      "source": [
        "예제4"
      ],
      "metadata": {
        "id": "hrrem-nWAIM2"
      }
    },
    {
      "cell_type": "code",
      "source": [
        "deck = FrenchDeck()\n",
        "print(f\"Rankds:{deck.ranks}\")\n",
        "print(f\"len:{len(deck)}\")"
      ],
      "metadata": {
        "colab": {
          "base_uri": "https://localhost:8080/"
        },
        "id": "5Eho8TL9AKYr",
        "outputId": "83ea81f9-c0ec-4e9c-eb16-8566df6939ea"
      },
      "execution_count": 8,
      "outputs": [
        {
          "output_type": "stream",
          "name": "stdout",
          "text": [
            "Rankds:['2', '3', '4', '5', '6', '7', '8', '9', '10', 'J', 'K', 'Q', 'A']\n",
            "len:52\n"
          ]
        }
      ]
    },
    {
      "cell_type": "markdown",
      "source": [
        "예제5"
      ],
      "metadata": {
        "id": "yoqMOY5xAVGx"
      }
    },
    {
      "cell_type": "code",
      "source": [
        "print(deck[0])\n",
        "print(deck[-1])"
      ],
      "metadata": {
        "colab": {
          "base_uri": "https://localhost:8080/"
        },
        "id": "bM_pHSIBAUvO",
        "outputId": "cf6da23f-5242-4040-9aeb-c3d17893fb58"
      },
      "execution_count": 9,
      "outputs": [
        {
          "output_type": "stream",
          "name": "stdout",
          "text": [
            "Card(rank='2', suit='spades')\n",
            "Card(rank='A', suit='hearts')\n"
          ]
        }
      ]
    },
    {
      "cell_type": "markdown",
      "source": [
        "예제6"
      ],
      "metadata": {
        "id": "fo98JCw9Ac6a"
      }
    },
    {
      "cell_type": "code",
      "source": [
        "from random import choice\n",
        "\n",
        "print(choice(deck))\n",
        "print(choice(deck))\n",
        "print(choice(deck))"
      ],
      "metadata": {
        "colab": {
          "base_uri": "https://localhost:8080/"
        },
        "id": "M1hBUKwFAcY3",
        "outputId": "7ecadc64-7c1a-4327-963c-3c4468529d4f"
      },
      "execution_count": 10,
      "outputs": [
        {
          "output_type": "stream",
          "name": "stdout",
          "text": [
            "Card(rank='A', suit='spades')\n",
            "Card(rank='5', suit='spades')\n",
            "Card(rank='8', suit='diamonds')\n"
          ]
        }
      ]
    },
    {
      "cell_type": "markdown",
      "source": [
        "예제7"
      ],
      "metadata": {
        "id": "fiq5jo0uAnhf"
      }
    },
    {
      "cell_type": "code",
      "source": [
        "deck[:3]"
      ],
      "metadata": {
        "colab": {
          "base_uri": "https://localhost:8080/"
        },
        "id": "yFcJ1aWYAnQl",
        "outputId": "81df454b-37b3-4fb8-9496-6718ffc1b426"
      },
      "execution_count": 11,
      "outputs": [
        {
          "output_type": "execute_result",
          "data": {
            "text/plain": [
              "[Card(rank='2', suit='spades'),\n",
              " Card(rank='3', suit='spades'),\n",
              " Card(rank='4', suit='spades')]"
            ]
          },
          "metadata": {},
          "execution_count": 11
        }
      ]
    },
    {
      "cell_type": "markdown",
      "source": [
        "예제8"
      ],
      "metadata": {
        "id": "jawGZ3K3Asv3"
      }
    },
    {
      "cell_type": "code",
      "source": [
        "deck[12::13]"
      ],
      "metadata": {
        "colab": {
          "base_uri": "https://localhost:8080/"
        },
        "id": "eIcy15mzAnOt",
        "outputId": "6f0701d1-03e7-49c5-8dfa-3b71a08b6360"
      },
      "execution_count": 12,
      "outputs": [
        {
          "output_type": "execute_result",
          "data": {
            "text/plain": [
              "[Card(rank='A', suit='spades'),\n",
              " Card(rank='A', suit='diamonds'),\n",
              " Card(rank='A', suit='clubs'),\n",
              " Card(rank='A', suit='hearts')]"
            ]
          },
          "metadata": {},
          "execution_count": 12
        }
      ]
    },
    {
      "cell_type": "markdown",
      "source": [
        "에제9"
      ],
      "metadata": {
        "id": "BvlopRJqAuyU"
      }
    },
    {
      "cell_type": "code",
      "source": [
        "for card in deck:\n",
        "  print(card)"
      ],
      "metadata": {
        "colab": {
          "base_uri": "https://localhost:8080/"
        },
        "id": "gfsmTKOAAnNK",
        "outputId": "dc659d9c-77bb-4726-d0cf-bf1e5836eed7"
      },
      "execution_count": 13,
      "outputs": [
        {
          "output_type": "stream",
          "name": "stdout",
          "text": [
            "Card(rank='2', suit='spades')\n",
            "Card(rank='3', suit='spades')\n",
            "Card(rank='4', suit='spades')\n",
            "Card(rank='5', suit='spades')\n",
            "Card(rank='6', suit='spades')\n",
            "Card(rank='7', suit='spades')\n",
            "Card(rank='8', suit='spades')\n",
            "Card(rank='9', suit='spades')\n",
            "Card(rank='10', suit='spades')\n",
            "Card(rank='J', suit='spades')\n",
            "Card(rank='K', suit='spades')\n",
            "Card(rank='Q', suit='spades')\n",
            "Card(rank='A', suit='spades')\n",
            "Card(rank='2', suit='diamonds')\n",
            "Card(rank='3', suit='diamonds')\n",
            "Card(rank='4', suit='diamonds')\n",
            "Card(rank='5', suit='diamonds')\n",
            "Card(rank='6', suit='diamonds')\n",
            "Card(rank='7', suit='diamonds')\n",
            "Card(rank='8', suit='diamonds')\n",
            "Card(rank='9', suit='diamonds')\n",
            "Card(rank='10', suit='diamonds')\n",
            "Card(rank='J', suit='diamonds')\n",
            "Card(rank='K', suit='diamonds')\n",
            "Card(rank='Q', suit='diamonds')\n",
            "Card(rank='A', suit='diamonds')\n",
            "Card(rank='2', suit='clubs')\n",
            "Card(rank='3', suit='clubs')\n",
            "Card(rank='4', suit='clubs')\n",
            "Card(rank='5', suit='clubs')\n",
            "Card(rank='6', suit='clubs')\n",
            "Card(rank='7', suit='clubs')\n",
            "Card(rank='8', suit='clubs')\n",
            "Card(rank='9', suit='clubs')\n",
            "Card(rank='10', suit='clubs')\n",
            "Card(rank='J', suit='clubs')\n",
            "Card(rank='K', suit='clubs')\n",
            "Card(rank='Q', suit='clubs')\n",
            "Card(rank='A', suit='clubs')\n",
            "Card(rank='2', suit='hearts')\n",
            "Card(rank='3', suit='hearts')\n",
            "Card(rank='4', suit='hearts')\n",
            "Card(rank='5', suit='hearts')\n",
            "Card(rank='6', suit='hearts')\n",
            "Card(rank='7', suit='hearts')\n",
            "Card(rank='8', suit='hearts')\n",
            "Card(rank='9', suit='hearts')\n",
            "Card(rank='10', suit='hearts')\n",
            "Card(rank='J', suit='hearts')\n",
            "Card(rank='K', suit='hearts')\n",
            "Card(rank='Q', suit='hearts')\n",
            "Card(rank='A', suit='hearts')\n"
          ]
        }
      ]
    },
    {
      "cell_type": "markdown",
      "source": [
        "예제10"
      ],
      "metadata": {
        "id": "Ads-V6A9A0Y_"
      }
    },
    {
      "cell_type": "code",
      "source": [
        "for card in reversed(deck):\n",
        "  print(card)"
      ],
      "metadata": {
        "colab": {
          "base_uri": "https://localhost:8080/"
        },
        "id": "aGtLlnWfAnLl",
        "outputId": "1c09e143-4c91-420d-d8d3-2c24dc31155c"
      },
      "execution_count": 14,
      "outputs": [
        {
          "output_type": "stream",
          "name": "stdout",
          "text": [
            "Card(rank='A', suit='hearts')\n",
            "Card(rank='Q', suit='hearts')\n",
            "Card(rank='K', suit='hearts')\n",
            "Card(rank='J', suit='hearts')\n",
            "Card(rank='10', suit='hearts')\n",
            "Card(rank='9', suit='hearts')\n",
            "Card(rank='8', suit='hearts')\n",
            "Card(rank='7', suit='hearts')\n",
            "Card(rank='6', suit='hearts')\n",
            "Card(rank='5', suit='hearts')\n",
            "Card(rank='4', suit='hearts')\n",
            "Card(rank='3', suit='hearts')\n",
            "Card(rank='2', suit='hearts')\n",
            "Card(rank='A', suit='clubs')\n",
            "Card(rank='Q', suit='clubs')\n",
            "Card(rank='K', suit='clubs')\n",
            "Card(rank='J', suit='clubs')\n",
            "Card(rank='10', suit='clubs')\n",
            "Card(rank='9', suit='clubs')\n",
            "Card(rank='8', suit='clubs')\n",
            "Card(rank='7', suit='clubs')\n",
            "Card(rank='6', suit='clubs')\n",
            "Card(rank='5', suit='clubs')\n",
            "Card(rank='4', suit='clubs')\n",
            "Card(rank='3', suit='clubs')\n",
            "Card(rank='2', suit='clubs')\n",
            "Card(rank='A', suit='diamonds')\n",
            "Card(rank='Q', suit='diamonds')\n",
            "Card(rank='K', suit='diamonds')\n",
            "Card(rank='J', suit='diamonds')\n",
            "Card(rank='10', suit='diamonds')\n",
            "Card(rank='9', suit='diamonds')\n",
            "Card(rank='8', suit='diamonds')\n",
            "Card(rank='7', suit='diamonds')\n",
            "Card(rank='6', suit='diamonds')\n",
            "Card(rank='5', suit='diamonds')\n",
            "Card(rank='4', suit='diamonds')\n",
            "Card(rank='3', suit='diamonds')\n",
            "Card(rank='2', suit='diamonds')\n",
            "Card(rank='A', suit='spades')\n",
            "Card(rank='Q', suit='spades')\n",
            "Card(rank='K', suit='spades')\n",
            "Card(rank='J', suit='spades')\n",
            "Card(rank='10', suit='spades')\n",
            "Card(rank='9', suit='spades')\n",
            "Card(rank='8', suit='spades')\n",
            "Card(rank='7', suit='spades')\n",
            "Card(rank='6', suit='spades')\n",
            "Card(rank='5', suit='spades')\n",
            "Card(rank='4', suit='spades')\n",
            "Card(rank='3', suit='spades')\n",
            "Card(rank='2', suit='spades')\n"
          ]
        }
      ]
    },
    {
      "cell_type": "markdown",
      "source": [
        "예제11"
      ],
      "metadata": {
        "id": "VZh7s9BjA4kn"
      }
    },
    {
      "cell_type": "code",
      "source": [
        "suit_values = dict(spades=3,hearts=2,diamonds=1,clubs=0)\n",
        "\n",
        "def spades_high(card):\n",
        "  rank_value = FrenchDeck.ranks.index(card.rank)\n",
        "  return rank_value * len(suit_values) + suit_values[card.suit]"
      ],
      "metadata": {
        "id": "Q5aBadWOAnJw"
      },
      "execution_count": 15,
      "outputs": []
    },
    {
      "cell_type": "code",
      "source": [
        "spades_high(beer_card)"
      ],
      "metadata": {
        "colab": {
          "base_uri": "https://localhost:8080/"
        },
        "id": "bd7Y64V0AnIM",
        "outputId": "6aa0657e-42b9-472a-8fd0-c7e2ce6fc534"
      },
      "execution_count": 16,
      "outputs": [
        {
          "output_type": "execute_result",
          "data": {
            "text/plain": [
              "21"
            ]
          },
          "metadata": {},
          "execution_count": 16
        }
      ]
    },
    {
      "cell_type": "code",
      "source": [
        "for cards in sorted(deck,key=spades_high):\n",
        "  print('The rank of {} is {} .'.format(card,spades_high(card)))\n"
      ],
      "metadata": {
        "colab": {
          "base_uri": "https://localhost:8080/"
        },
        "id": "5H687k_vAnA6",
        "outputId": "e4ef994b-75bf-4e26-ef7e-e6d340d55bea"
      },
      "execution_count": 17,
      "outputs": [
        {
          "output_type": "stream",
          "name": "stdout",
          "text": [
            "The rank of Card(rank='2', suit='spades') is 3 .\n",
            "The rank of Card(rank='2', suit='spades') is 3 .\n",
            "The rank of Card(rank='2', suit='spades') is 3 .\n",
            "The rank of Card(rank='2', suit='spades') is 3 .\n",
            "The rank of Card(rank='2', suit='spades') is 3 .\n",
            "The rank of Card(rank='2', suit='spades') is 3 .\n",
            "The rank of Card(rank='2', suit='spades') is 3 .\n",
            "The rank of Card(rank='2', suit='spades') is 3 .\n",
            "The rank of Card(rank='2', suit='spades') is 3 .\n",
            "The rank of Card(rank='2', suit='spades') is 3 .\n",
            "The rank of Card(rank='2', suit='spades') is 3 .\n",
            "The rank of Card(rank='2', suit='spades') is 3 .\n",
            "The rank of Card(rank='2', suit='spades') is 3 .\n",
            "The rank of Card(rank='2', suit='spades') is 3 .\n",
            "The rank of Card(rank='2', suit='spades') is 3 .\n",
            "The rank of Card(rank='2', suit='spades') is 3 .\n",
            "The rank of Card(rank='2', suit='spades') is 3 .\n",
            "The rank of Card(rank='2', suit='spades') is 3 .\n",
            "The rank of Card(rank='2', suit='spades') is 3 .\n",
            "The rank of Card(rank='2', suit='spades') is 3 .\n",
            "The rank of Card(rank='2', suit='spades') is 3 .\n",
            "The rank of Card(rank='2', suit='spades') is 3 .\n",
            "The rank of Card(rank='2', suit='spades') is 3 .\n",
            "The rank of Card(rank='2', suit='spades') is 3 .\n",
            "The rank of Card(rank='2', suit='spades') is 3 .\n",
            "The rank of Card(rank='2', suit='spades') is 3 .\n",
            "The rank of Card(rank='2', suit='spades') is 3 .\n",
            "The rank of Card(rank='2', suit='spades') is 3 .\n",
            "The rank of Card(rank='2', suit='spades') is 3 .\n",
            "The rank of Card(rank='2', suit='spades') is 3 .\n",
            "The rank of Card(rank='2', suit='spades') is 3 .\n",
            "The rank of Card(rank='2', suit='spades') is 3 .\n",
            "The rank of Card(rank='2', suit='spades') is 3 .\n",
            "The rank of Card(rank='2', suit='spades') is 3 .\n",
            "The rank of Card(rank='2', suit='spades') is 3 .\n",
            "The rank of Card(rank='2', suit='spades') is 3 .\n",
            "The rank of Card(rank='2', suit='spades') is 3 .\n",
            "The rank of Card(rank='2', suit='spades') is 3 .\n",
            "The rank of Card(rank='2', suit='spades') is 3 .\n",
            "The rank of Card(rank='2', suit='spades') is 3 .\n",
            "The rank of Card(rank='2', suit='spades') is 3 .\n",
            "The rank of Card(rank='2', suit='spades') is 3 .\n",
            "The rank of Card(rank='2', suit='spades') is 3 .\n",
            "The rank of Card(rank='2', suit='spades') is 3 .\n",
            "The rank of Card(rank='2', suit='spades') is 3 .\n",
            "The rank of Card(rank='2', suit='spades') is 3 .\n",
            "The rank of Card(rank='2', suit='spades') is 3 .\n",
            "The rank of Card(rank='2', suit='spades') is 3 .\n",
            "The rank of Card(rank='2', suit='spades') is 3 .\n",
            "The rank of Card(rank='2', suit='spades') is 3 .\n",
            "The rank of Card(rank='2', suit='spades') is 3 .\n",
            "The rank of Card(rank='2', suit='spades') is 3 .\n"
          ]
        }
      ]
    },
    {
      "cell_type": "markdown",
      "source": [
        "예제12"
      ],
      "metadata": {
        "id": "QR2qVXrGBmFF"
      }
    },
    {
      "cell_type": "code",
      "source": [
        "from math import *\n",
        "\n",
        "class Vector:\n",
        "  def __init__(self,x=0,y=0):\n",
        "    self.x = x\n",
        "    self.y = y\n",
        "\n",
        "  def __repr__(self):\n",
        "    return 'Vector(%r,%r)'%(self.x,self.y)\n",
        "\n",
        "  def __abs__(self):\n",
        "    return hypot(self.x,self.y)\n",
        "\n",
        "  def __bool__(self):\n",
        "    return bool(abs(self))\n",
        "\n",
        "  def __add__(self,other):\n",
        "    x = self.x + other.x\n",
        "    y = self.y + other.y\n",
        "    return Vector(x,y)\n",
        "\n",
        "  def __mul__(self,scalar):\n",
        "    return Vector(self.x * scalar,self.y * scalar)"
      ],
      "metadata": {
        "id": "mb9-jlUgAmrU"
      },
      "execution_count": 28,
      "outputs": []
    },
    {
      "cell_type": "code",
      "source": [
        "v = Vector(3,4)\n",
        "abs(v)"
      ],
      "metadata": {
        "colab": {
          "base_uri": "https://localhost:8080/"
        },
        "id": "5yy2lJniBo0m",
        "outputId": "6ff1236a-7e8c-451c-afd1-e0533f31ea4c"
      },
      "execution_count": 29,
      "outputs": [
        {
          "output_type": "execute_result",
          "data": {
            "text/plain": [
              "5.0"
            ]
          },
          "metadata": {},
          "execution_count": 29
        }
      ]
    },
    {
      "cell_type": "code",
      "source": [
        "v*3\n",
        "abs(v*3)"
      ],
      "metadata": {
        "colab": {
          "base_uri": "https://localhost:8080/"
        },
        "id": "Qp7KXaGuBou-",
        "outputId": "49febd28-b14c-430c-9a40-fc82acc07e83"
      },
      "execution_count": 30,
      "outputs": [
        {
          "output_type": "execute_result",
          "data": {
            "text/plain": [
              "15.0"
            ]
          },
          "metadata": {},
          "execution_count": 30
        }
      ]
    },
    {
      "cell_type": "code",
      "source": [
        "v1 = Vector(2,4)\n",
        "v2 = Vector(2,1)\n",
        "v1 + v2"
      ],
      "metadata": {
        "colab": {
          "base_uri": "https://localhost:8080/"
        },
        "id": "AjeGKXbJBosr",
        "outputId": "d1268591-4e9d-4083-9a71-b6a7c092077c"
      },
      "execution_count": 31,
      "outputs": [
        {
          "output_type": "execute_result",
          "data": {
            "text/plain": [
              "Vector(4,5)"
            ]
          },
          "metadata": {},
          "execution_count": 31
        }
      ]
    },
    {
      "cell_type": "markdown",
      "source": [
        "예제13"
      ],
      "metadata": {
        "id": "DGOZpBpN__7g"
      }
    },
    {
      "cell_type": "code",
      "source": [
        "v"
      ],
      "metadata": {
        "colab": {
          "base_uri": "https://localhost:8080/"
        },
        "id": "breLcEpCDLaN",
        "outputId": "07a2a064-f901-4f2f-9d14-32d161cddfd8"
      },
      "execution_count": 32,
      "outputs": [
        {
          "output_type": "execute_result",
          "data": {
            "text/plain": [
              "Vector(3,4)"
            ]
          },
          "metadata": {},
          "execution_count": 32
        }
      ]
    }
  ]
}